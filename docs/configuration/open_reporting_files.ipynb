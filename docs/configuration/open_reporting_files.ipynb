{
 "cells": [
  {
   "cell_type": "markdown",
   "id": "innovative-property",
   "metadata": {},
   "source": [
    "**This code is based on the example2 (see example2 in the documentation [here](https://diw-evu.gitlab.io/dieter_public/dieterpy))**"
   ]
  },
  {
   "cell_type": "code",
   "execution_count": 1,
   "id": "substantial-frank",
   "metadata": {},
   "outputs": [],
   "source": [
    "import pickle\n",
    "import gzip\n",
    "import glob"
   ]
  },
  {
   "cell_type": "code",
   "execution_count": 2,
   "id": "front-worthy",
   "metadata": {},
   "outputs": [
    {
     "data": {
      "text/plain": [
       "['project_files/report_files/STO_IN.v.pkl.gz',\n",
       " 'project_files/report_files/c_infes.v.pkl.gz',\n",
       " 'project_files/report_files/N_RSVR_P.v.pkl.gz',\n",
       " 'project_files/report_files/G_RES.v.pkl.gz',\n",
       " 'project_files/report_files/N_RSVR_E.v.pkl.gz']"
      ]
     },
     "execution_count": 2,
     "metadata": {},
     "output_type": "execute_result"
    }
   ],
   "source": [
    "# Our notebook is located in the main project folder\n",
    "reportingfiles = glob.glob('project_files/report_files/*.*')\n",
    "reportingfiles[:5]"
   ]
  },
  {
   "cell_type": "code",
   "execution_count": 3,
   "id": "agricultural-teaching",
   "metadata": {},
   "outputs": [
    {
     "data": {
      "text/plain": [
       "'project_files/report_files/STO_IN.v.pkl.gz'"
      ]
     },
     "execution_count": 3,
     "metadata": {},
     "output_type": "execute_result"
    }
   ],
   "source": [
    "# We extract only the value column of the symbol in the file STO_IN.v.pkl.gz \n",
    "# as the symbol name is followed by .v\n",
    "# other option are 'm' for marginal, 'l' for lower bound and 'u' for upper bound for GAMS Variables.\n",
    "# parameters only have Val\n",
    "reportingfiles[0]"
   ]
  },
  {
   "cell_type": "code",
   "execution_count": 4,
   "id": "collected-bahamas",
   "metadata": {},
   "outputs": [],
   "source": [
    "# we will open the first one: reportingfiles[0]\n",
    "with gzip.open(reportingfiles[0]) as f:\n",
    "    dc = pickle.load(f)"
   ]
  },
  {
   "cell_type": "code",
   "execution_count": 5,
   "id": "eastern-retirement",
   "metadata": {},
   "outputs": [
    {
     "data": {
      "text/plain": [
       "dict_keys(['dims', 'type', 'symb_desc', 'symbol', 'v', 'scen', 'loop', 'modifiers'])"
      ]
     },
     "execution_count": 5,
     "metadata": {},
     "output_type": "execute_result"
    }
   ],
   "source": [
    "dc.keys()"
   ]
  },
  {
   "cell_type": "code",
   "execution_count": 6,
   "id": "color-identity",
   "metadata": {},
   "outputs": [
    {
     "data": {
      "text/plain": [
       "'STO_IN'"
      ]
     },
     "execution_count": 6,
     "metadata": {},
     "output_type": "execute_result"
    }
   ],
   "source": [
    "dc['symbol']"
   ]
  },
  {
   "cell_type": "code",
   "execution_count": 7,
   "id": "finite-queen",
   "metadata": {},
   "outputs": [
    {
     "data": {
      "text/plain": [
       "'Storage inflow technology sto hour h [MWh]'"
      ]
     },
     "execution_count": 7,
     "metadata": {},
     "output_type": "execute_result"
    }
   ],
   "source": [
    "dc['symb_desc']"
   ]
  },
  {
   "cell_type": "code",
   "execution_count": 8,
   "id": "romance-appointment",
   "metadata": {},
   "outputs": [
    {
     "data": {
      "text/plain": [
       "['n', 'sto', 'h']"
      ]
     },
     "execution_count": 8,
     "metadata": {},
     "output_type": "execute_result"
    }
   ],
   "source": [
    "dc['dims']"
   ]
  },
  {
   "cell_type": "code",
   "execution_count": 9,
   "id": "satisfactory-november",
   "metadata": {},
   "outputs": [
    {
     "data": {
      "text/html": [
       "<div>\n",
       "<style scoped>\n",
       "    .dataframe tbody tr th:only-of-type {\n",
       "        vertical-align: middle;\n",
       "    }\n",
       "\n",
       "    .dataframe tbody tr th {\n",
       "        vertical-align: top;\n",
       "    }\n",
       "\n",
       "    .dataframe thead th {\n",
       "        text-align: right;\n",
       "    }\n",
       "</style>\n",
       "<table border=\"1\" class=\"dataframe\">\n",
       "  <thead>\n",
       "    <tr style=\"text-align: right;\">\n",
       "      <th></th>\n",
       "      <th>id</th>\n",
       "      <th>symbol</th>\n",
       "      <th>n</th>\n",
       "      <th>sto</th>\n",
       "      <th>h</th>\n",
       "      <th>Val</th>\n",
       "    </tr>\n",
       "  </thead>\n",
       "  <tbody>\n",
       "    <tr>\n",
       "      <th>0</th>\n",
       "      <td>S000</td>\n",
       "      <td>STO_IN</td>\n",
       "      <td>DE</td>\n",
       "      <td>Li-ion</td>\n",
       "      <td>1</td>\n",
       "      <td>0.000059</td>\n",
       "    </tr>\n",
       "    <tr>\n",
       "      <th>1</th>\n",
       "      <td>S000</td>\n",
       "      <td>STO_IN</td>\n",
       "      <td>DE</td>\n",
       "      <td>Li-ion</td>\n",
       "      <td>2</td>\n",
       "      <td>220.634419</td>\n",
       "    </tr>\n",
       "    <tr>\n",
       "      <th>2</th>\n",
       "      <td>S000</td>\n",
       "      <td>STO_IN</td>\n",
       "      <td>DE</td>\n",
       "      <td>Li-ion</td>\n",
       "      <td>3</td>\n",
       "      <td>260.351891</td>\n",
       "    </tr>\n",
       "    <tr>\n",
       "      <th>3</th>\n",
       "      <td>S000</td>\n",
       "      <td>STO_IN</td>\n",
       "      <td>DE</td>\n",
       "      <td>Li-ion</td>\n",
       "      <td>4</td>\n",
       "      <td>340.198929</td>\n",
       "    </tr>\n",
       "    <tr>\n",
       "      <th>4</th>\n",
       "      <td>S000</td>\n",
       "      <td>STO_IN</td>\n",
       "      <td>DE</td>\n",
       "      <td>Li-ion</td>\n",
       "      <td>5</td>\n",
       "      <td>679.208690</td>\n",
       "    </tr>\n",
       "    <tr>\n",
       "      <th>...</th>\n",
       "      <td>...</td>\n",
       "      <td>...</td>\n",
       "      <td>...</td>\n",
       "      <td>...</td>\n",
       "      <td>...</td>\n",
       "      <td>...</td>\n",
       "    </tr>\n",
       "    <tr>\n",
       "      <th>52555</th>\n",
       "      <td>S003</td>\n",
       "      <td>STO_IN</td>\n",
       "      <td>FR</td>\n",
       "      <td>PHS</td>\n",
       "      <td>8756</td>\n",
       "      <td>0.000030</td>\n",
       "    </tr>\n",
       "    <tr>\n",
       "      <th>52556</th>\n",
       "      <td>S003</td>\n",
       "      <td>STO_IN</td>\n",
       "      <td>FR</td>\n",
       "      <td>PHS</td>\n",
       "      <td>8757</td>\n",
       "      <td>0.000056</td>\n",
       "    </tr>\n",
       "    <tr>\n",
       "      <th>52557</th>\n",
       "      <td>S003</td>\n",
       "      <td>STO_IN</td>\n",
       "      <td>FR</td>\n",
       "      <td>PHS</td>\n",
       "      <td>8758</td>\n",
       "      <td>0.000057</td>\n",
       "    </tr>\n",
       "    <tr>\n",
       "      <th>52558</th>\n",
       "      <td>S003</td>\n",
       "      <td>STO_IN</td>\n",
       "      <td>FR</td>\n",
       "      <td>PHS</td>\n",
       "      <td>8759</td>\n",
       "      <td>0.000029</td>\n",
       "    </tr>\n",
       "    <tr>\n",
       "      <th>52559</th>\n",
       "      <td>S003</td>\n",
       "      <td>STO_IN</td>\n",
       "      <td>FR</td>\n",
       "      <td>PHS</td>\n",
       "      <td>8760</td>\n",
       "      <td>0.000029</td>\n",
       "    </tr>\n",
       "  </tbody>\n",
       "</table>\n",
       "<p>210240 rows × 6 columns</p>\n",
       "</div>"
      ],
      "text/plain": [
       "         id  symbol   n     sto     h         Val\n",
       "0      S000  STO_IN  DE  Li-ion     1    0.000059\n",
       "1      S000  STO_IN  DE  Li-ion     2  220.634419\n",
       "2      S000  STO_IN  DE  Li-ion     3  260.351891\n",
       "3      S000  STO_IN  DE  Li-ion     4  340.198929\n",
       "4      S000  STO_IN  DE  Li-ion     5  679.208690\n",
       "...     ...     ...  ..     ...   ...         ...\n",
       "52555  S003  STO_IN  FR     PHS  8756    0.000030\n",
       "52556  S003  STO_IN  FR     PHS  8757    0.000056\n",
       "52557  S003  STO_IN  FR     PHS  8758    0.000057\n",
       "52558  S003  STO_IN  FR     PHS  8759    0.000029\n",
       "52559  S003  STO_IN  FR     PHS  8760    0.000029\n",
       "\n",
       "[210240 rows x 6 columns]"
      ]
     },
     "execution_count": 9,
     "metadata": {},
     "output_type": "execute_result"
    }
   ],
   "source": [
    "# id is a short name of a scenario. 'v' represent Val\n",
    "# it is also available 'm', 'l', and 'u', but first the corresponding file must be created \n",
    "dc['v']"
   ]
  },
  {
   "cell_type": "code",
   "execution_count": 10,
   "id": "egyptian-boating",
   "metadata": {},
   "outputs": [
    {
     "data": {
      "text/plain": [
       "{'Run_000_20210315221115_b00_r000': 'S000',\n",
       " 'S000': 'Run_000_20210315221115_b00_r000',\n",
       " 'Run_001_20210315221115_b00_r001': 'S001',\n",
       " 'S001': 'Run_001_20210315221115_b00_r001',\n",
       " 'Run_002_20210315221115_b00_r002': 'S002',\n",
       " 'S002': 'Run_002_20210315221115_b00_r002',\n",
       " 'Run_003_20210315221115_b00_r003': 'S003',\n",
       " 'S003': 'Run_003_20210315221115_b00_r003'}"
      ]
     },
     "execution_count": 10,
     "metadata": {},
     "output_type": "execute_result"
    }
   ],
   "source": [
    "dc['scen']"
   ]
  },
  {
   "cell_type": "code",
   "execution_count": 11,
   "id": "skilled-pizza",
   "metadata": {},
   "outputs": [
    {
     "data": {
      "text/plain": [
       "[\"phi_min_res('FR')\",\n",
       " 'country_set',\n",
       " 'constraint_minRES',\n",
       " 'long_id',\n",
       " 'constraint_carbon',\n",
       " \"phi_min_res('DE')\",\n",
       " 'solver_msg']"
      ]
     },
     "execution_count": 11,
     "metadata": {},
     "output_type": "execute_result"
    }
   ],
   "source": [
    "dc['loop']"
   ]
  },
  {
   "cell_type": "code",
   "execution_count": 12,
   "id": "prepared-guidance",
   "metadata": {},
   "outputs": [
    {
     "data": {
      "text/plain": [
       "{'S000': {\"phi_min_res('FR')\": 0.4,\n",
       "  'country_set': 'DE,FR',\n",
       "  'constraint_minRES': 'rescon_0a',\n",
       "  'long_id': 'Run_000_20210315221115_b00_r000',\n",
       "  'constraint_carbon': 'max_node_CO2',\n",
       "  \"phi_min_res('DE')\": 0.5,\n",
       "  'solver_msg': 'LP status(1): optimal'},\n",
       " 'S001': {\"phi_min_res('FR')\": 0.5,\n",
       "  'country_set': 'DE,FR',\n",
       "  'constraint_minRES': 'rescon_0a',\n",
       "  'long_id': 'Run_001_20210315221115_b00_r001',\n",
       "  'constraint_carbon': 'max_node_CO2',\n",
       "  \"phi_min_res('DE')\": 0.6,\n",
       "  'solver_msg': 'LP status(1): optimal'},\n",
       " 'S002': {\"phi_min_res('FR')\": 0.6,\n",
       "  'country_set': 'DE,FR',\n",
       "  'constraint_minRES': 'rescon_0a',\n",
       "  'long_id': 'Run_002_20210315221115_b00_r002',\n",
       "  'constraint_carbon': 'max_node_CO2',\n",
       "  \"phi_min_res('DE')\": 0.7,\n",
       "  'solver_msg': 'LP status(1): optimal'},\n",
       " 'S003': {\"phi_min_res('FR')\": 0.7,\n",
       "  'country_set': 'DE,FR',\n",
       "  'constraint_minRES': 'rescon_0a',\n",
       "  'long_id': 'Run_003_20210315221115_b00_r003',\n",
       "  'constraint_carbon': 'max_node_CO2',\n",
       "  \"phi_min_res('DE')\": 0.8,\n",
       "  'solver_msg': 'LP status(1): optimal'}}"
      ]
     },
     "execution_count": 12,
     "metadata": {},
     "output_type": "execute_result"
    }
   ],
   "source": [
    "dc['modifiers']"
   ]
  }
 ],
 "metadata": {
  "kernelspec": {
   "display_name": "Python 3",
   "language": "python",
   "name": "python3"
  },
  "language_info": {
   "codemirror_mode": {
    "name": "ipython",
    "version": 3
   },
   "file_extension": ".py",
   "mimetype": "text/x-python",
   "name": "python",
   "nbconvert_exporter": "python",
   "pygments_lexer": "ipython3",
   "version": "3.6.13"
  }
 },
 "nbformat": 4,
 "nbformat_minor": 5
}
