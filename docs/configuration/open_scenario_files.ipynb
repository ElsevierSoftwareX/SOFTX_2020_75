{
 "cells": [
  {
   "cell_type": "markdown",
   "id": "meaning-heading",
   "metadata": {},
   "source": [
    "**This code is based on the example2 (see example2 in the documentation [here](https://diw-evu.gitlab.io/dieter_public/dieterpy))**"
   ]
  },
  {
   "cell_type": "code",
   "execution_count": 1,
   "id": "explicit-noise",
   "metadata": {},
   "outputs": [],
   "source": [
    "import pickle\n",
    "import gzip\n",
    "import glob"
   ]
  },
  {
   "cell_type": "code",
   "execution_count": 2,
   "id": "sophisticated-facing",
   "metadata": {},
   "outputs": [
    {
     "data": {
      "text/plain": [
       "['project_files/data_output/Run_000_20210315221115_b00_r000/Run_000_20210315221115_b00_r000.pkl.gz',\n",
       " 'project_files/data_output/Run_002_20210315221115_b00_r002/Run_002_20210315221115_b00_r002.pkl.gz',\n",
       " 'project_files/data_output/Run_003_20210315221115_b00_r003/Run_003_20210315221115_b00_r003.pkl.gz',\n",
       " 'project_files/data_output/Run_001_20210315221115_b00_r001/Run_001_20210315221115_b00_r001.pkl.gz']"
      ]
     },
     "execution_count": 2,
     "metadata": {},
     "output_type": "execute_result"
    }
   ],
   "source": [
    "# Our notebook is located in the main project folder\n",
    "scenfiles = glob.glob('project_files/data_output/**/*.pkl.gz', recursive=True)\n",
    "scenfiles"
   ]
  },
  {
   "cell_type": "code",
   "execution_count": 3,
   "id": "modern-purse",
   "metadata": {},
   "outputs": [],
   "source": [
    "# we will open the first one: scenfiles[0]\n",
    "with gzip.open(scenfiles[0]) as f:\n",
    "    dc = pickle.load(f)"
   ]
  },
  {
   "cell_type": "code",
   "execution_count": 4,
   "id": "recent-keeping",
   "metadata": {},
   "outputs": [
    {
     "data": {
      "text/plain": [
       "dict_keys(['scenario', 'loop', 'scen_desc', 'CU', 'G_DO', 'G_UP', 'G_L', 'G_RES', 'STO_IN', 'STO_OUT', 'STO_L', 'con1a_bal', 'G_INFES', 'phi_res', 'RSVR_L', 'RSVR_OUT', 'd', 'N_TECH', 'F', 'rsvr_in', 'N_STO_E', 'c_m', 'N_STO_P', 'eta', 'eta_sto', 'N_RSVR_E', 'N_RSVR_P', 'con5c_max_node_CO2', 'etop_max', 'phi_sto_ini', 'c_m_sto', 'NTC', 'Z', 'phi_min_res', 'con5c_max_overall_CO2', 'inc', 'co2_cap_exog', 'c_infes', 'co2_cap'])"
      ]
     },
     "execution_count": 4,
     "metadata": {},
     "output_type": "execute_result"
    }
   ],
   "source": [
    "dc.keys()"
   ]
  },
  {
   "cell_type": "code",
   "execution_count": 5,
   "id": "sorted-indiana",
   "metadata": {},
   "outputs": [
    {
     "data": {
      "text/plain": [
       "'Run_000_20210315221115_b00_r000'"
      ]
     },
     "execution_count": 5,
     "metadata": {},
     "output_type": "execute_result"
    }
   ],
   "source": [
    "dc['scenario']"
   ]
  },
  {
   "cell_type": "code",
   "execution_count": 6,
   "id": "explicit-commissioner",
   "metadata": {},
   "outputs": [
    {
     "data": {
      "text/plain": [
       "{'country_set': 'DE,FR',\n",
       " 'constraint_minRES': 'rescon_0a',\n",
       " 'constraint_carbon': 'max_node_CO2',\n",
       " \"phi_min_res('FR')\": 0.4,\n",
       " \"phi_min_res('DE')\": 0.5,\n",
       " 'solver_msg': 'LP status(1): optimal',\n",
       " 'long_id': 'Run_000_20210315221115_b00_r000'}"
      ]
     },
     "execution_count": 6,
     "metadata": {},
     "output_type": "execute_result"
    }
   ],
   "source": [
    "dc['loop']"
   ]
  },
  {
   "cell_type": "code",
   "execution_count": 7,
   "id": "minute-pharmacology",
   "metadata": {},
   "outputs": [
    {
     "data": {
      "text/plain": [
       "\"DE-FR_rescon_0a-max_node_CO2_NA_phi_min_res('FR')_0.4_phi_min_res('DE')_0.5\""
      ]
     },
     "execution_count": 7,
     "metadata": {},
     "output_type": "execute_result"
    }
   ],
   "source": [
    "dc['scen_desc']"
   ]
  },
  {
   "cell_type": "code",
   "execution_count": 8,
   "id": "behavioral-target",
   "metadata": {},
   "outputs": [
    {
     "data": {
      "text/plain": [
       "dict_keys(['data', 'dims', 'type', 'symb_desc', 'symbol'])"
      ]
     },
     "execution_count": 8,
     "metadata": {},
     "output_type": "execute_result"
    }
   ],
   "source": [
    "# The other keys are symbols. Symbols are contained in dictionaries. we pick one: STO_IN\n",
    "dc['STO_IN'].keys()"
   ]
  },
  {
   "cell_type": "code",
   "execution_count": 9,
   "id": "developmental-concern",
   "metadata": {},
   "outputs": [
    {
     "data": {
      "text/plain": [
       "'STO_IN'"
      ]
     },
     "execution_count": 9,
     "metadata": {},
     "output_type": "execute_result"
    }
   ],
   "source": [
    "dc['STO_IN']['symbol']"
   ]
  },
  {
   "cell_type": "code",
   "execution_count": 10,
   "id": "representative-strength",
   "metadata": {},
   "outputs": [
    {
     "data": {
      "text/plain": [
       "'Storage inflow technology sto hour h [MWh]'"
      ]
     },
     "execution_count": 10,
     "metadata": {},
     "output_type": "execute_result"
    }
   ],
   "source": [
    "dc['STO_IN']['symb_desc']"
   ]
  },
  {
   "cell_type": "code",
   "execution_count": 11,
   "id": "similar-annual",
   "metadata": {},
   "outputs": [
    {
     "data": {
      "text/plain": [
       "'variable'"
      ]
     },
     "execution_count": 11,
     "metadata": {},
     "output_type": "execute_result"
    }
   ],
   "source": [
    "dc['STO_IN']['type']"
   ]
  },
  {
   "cell_type": "code",
   "execution_count": 12,
   "id": "further-iraqi",
   "metadata": {},
   "outputs": [
    {
     "data": {
      "text/plain": [
       "['n', 'sto', 'h']"
      ]
     },
     "execution_count": 12,
     "metadata": {},
     "output_type": "execute_result"
    }
   ],
   "source": [
    "dc['STO_IN']['dims']"
   ]
  },
  {
   "cell_type": "code",
   "execution_count": 13,
   "id": "optimum-hungarian",
   "metadata": {},
   "outputs": [
    {
     "data": {
      "text/html": [
       "<div>\n",
       "<style scoped>\n",
       "    .dataframe tbody tr th:only-of-type {\n",
       "        vertical-align: middle;\n",
       "    }\n",
       "\n",
       "    .dataframe tbody tr th {\n",
       "        vertical-align: top;\n",
       "    }\n",
       "\n",
       "    .dataframe thead th {\n",
       "        text-align: right;\n",
       "    }\n",
       "</style>\n",
       "<table border=\"1\" class=\"dataframe\">\n",
       "  <thead>\n",
       "    <tr style=\"text-align: right;\">\n",
       "      <th></th>\n",
       "      <th>n</th>\n",
       "      <th>sto</th>\n",
       "      <th>h</th>\n",
       "      <th>Val</th>\n",
       "      <th>Marginal</th>\n",
       "      <th>Lower</th>\n",
       "      <th>Upper</th>\n",
       "    </tr>\n",
       "  </thead>\n",
       "  <tbody>\n",
       "    <tr>\n",
       "      <th>0</th>\n",
       "      <td>DE</td>\n",
       "      <td>Li-ion</td>\n",
       "      <td>h1</td>\n",
       "      <td>0.000059</td>\n",
       "      <td>38.333367</td>\n",
       "      <td>0</td>\n",
       "      <td>inf</td>\n",
       "    </tr>\n",
       "    <tr>\n",
       "      <th>1</th>\n",
       "      <td>DE</td>\n",
       "      <td>Li-ion</td>\n",
       "      <td>h2</td>\n",
       "      <td>220.634419</td>\n",
       "      <td>0.000012</td>\n",
       "      <td>0</td>\n",
       "      <td>inf</td>\n",
       "    </tr>\n",
       "    <tr>\n",
       "      <th>2</th>\n",
       "      <td>DE</td>\n",
       "      <td>Li-ion</td>\n",
       "      <td>h3</td>\n",
       "      <td>260.351891</td>\n",
       "      <td>0.000011</td>\n",
       "      <td>0</td>\n",
       "      <td>inf</td>\n",
       "    </tr>\n",
       "    <tr>\n",
       "      <th>3</th>\n",
       "      <td>DE</td>\n",
       "      <td>Li-ion</td>\n",
       "      <td>h4</td>\n",
       "      <td>340.198929</td>\n",
       "      <td>0.000008</td>\n",
       "      <td>0</td>\n",
       "      <td>inf</td>\n",
       "    </tr>\n",
       "    <tr>\n",
       "      <th>4</th>\n",
       "      <td>DE</td>\n",
       "      <td>Li-ion</td>\n",
       "      <td>h5</td>\n",
       "      <td>679.208690</td>\n",
       "      <td>0.000004</td>\n",
       "      <td>0</td>\n",
       "      <td>inf</td>\n",
       "    </tr>\n",
       "    <tr>\n",
       "      <th>...</th>\n",
       "      <td>...</td>\n",
       "      <td>...</td>\n",
       "      <td>...</td>\n",
       "      <td>...</td>\n",
       "      <td>...</td>\n",
       "      <td>...</td>\n",
       "      <td>...</td>\n",
       "    </tr>\n",
       "    <tr>\n",
       "      <th>52555</th>\n",
       "      <td>FR</td>\n",
       "      <td>PHS</td>\n",
       "      <td>h8756</td>\n",
       "      <td>0.001021</td>\n",
       "      <td>2.199122</td>\n",
       "      <td>0</td>\n",
       "      <td>inf</td>\n",
       "    </tr>\n",
       "    <tr>\n",
       "      <th>52556</th>\n",
       "      <td>FR</td>\n",
       "      <td>PHS</td>\n",
       "      <td>h8757</td>\n",
       "      <td>0.003061</td>\n",
       "      <td>0.719486</td>\n",
       "      <td>0</td>\n",
       "      <td>inf</td>\n",
       "    </tr>\n",
       "    <tr>\n",
       "      <th>52557</th>\n",
       "      <td>FR</td>\n",
       "      <td>PHS</td>\n",
       "      <td>h8758</td>\n",
       "      <td>0.003109</td>\n",
       "      <td>0.719473</td>\n",
       "      <td>0</td>\n",
       "      <td>inf</td>\n",
       "    </tr>\n",
       "    <tr>\n",
       "      <th>52558</th>\n",
       "      <td>FR</td>\n",
       "      <td>PHS</td>\n",
       "      <td>h8759</td>\n",
       "      <td>0.001019</td>\n",
       "      <td>2.199125</td>\n",
       "      <td>0</td>\n",
       "      <td>inf</td>\n",
       "    </tr>\n",
       "    <tr>\n",
       "      <th>52559</th>\n",
       "      <td>FR</td>\n",
       "      <td>PHS</td>\n",
       "      <td>h8760</td>\n",
       "      <td>0.001016</td>\n",
       "      <td>2.199127</td>\n",
       "      <td>0</td>\n",
       "      <td>inf</td>\n",
       "    </tr>\n",
       "  </tbody>\n",
       "</table>\n",
       "<p>52560 rows × 7 columns</p>\n",
       "</div>"
      ],
      "text/plain": [
       "        n     sto      h         Val   Marginal  Lower  Upper\n",
       "0      DE  Li-ion     h1    0.000059  38.333367      0    inf\n",
       "1      DE  Li-ion     h2  220.634419   0.000012      0    inf\n",
       "2      DE  Li-ion     h3  260.351891   0.000011      0    inf\n",
       "3      DE  Li-ion     h4  340.198929   0.000008      0    inf\n",
       "4      DE  Li-ion     h5  679.208690   0.000004      0    inf\n",
       "...    ..     ...    ...         ...        ...    ...    ...\n",
       "52555  FR     PHS  h8756    0.001021   2.199122      0    inf\n",
       "52556  FR     PHS  h8757    0.003061   0.719486      0    inf\n",
       "52557  FR     PHS  h8758    0.003109   0.719473      0    inf\n",
       "52558  FR     PHS  h8759    0.001019   2.199125      0    inf\n",
       "52559  FR     PHS  h8760    0.001016   2.199127      0    inf\n",
       "\n",
       "[52560 rows x 7 columns]"
      ]
     },
     "execution_count": 13,
     "metadata": {},
     "output_type": "execute_result"
    }
   ],
   "source": [
    "dc['STO_IN']['data']"
   ]
  }
 ],
 "metadata": {
  "kernelspec": {
   "display_name": "Python 3",
   "language": "python",
   "name": "python3"
  },
  "language_info": {
   "codemirror_mode": {
    "name": "ipython",
    "version": 3
   },
   "file_extension": ".py",
   "mimetype": "text/x-python",
   "name": "python",
   "nbconvert_exporter": "python",
   "pygments_lexer": "ipython3",
   "version": "3.6.13"
  }
 },
 "nbformat": 4,
 "nbformat_minor": 5
}
